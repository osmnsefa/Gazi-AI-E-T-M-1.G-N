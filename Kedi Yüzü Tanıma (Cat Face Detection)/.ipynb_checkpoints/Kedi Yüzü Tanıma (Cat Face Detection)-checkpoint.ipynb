{
 "cells": [
  {
   "cell_type": "code",
   "execution_count": 5,
   "id": "de225e97",
   "metadata": {},
   "outputs": [],
   "source": [
    "import cv2\n",
    "import os"
   ]
  },
  {
   "cell_type": "code",
   "execution_count": 6,
   "id": "674ff34e",
   "metadata": {},
   "outputs": [
    {
     "name": "stdout",
     "output_type": "stream",
     "text": [
      "['.ipynb_checkpoints', 'cat_img1.jpg', 'cat_img2.jpg', 'cat_img3.jpg', 'Kedi Yüzü Tanıma (Cat Face Detection).ipynb']\n"
     ]
    }
   ],
   "source": [
    "files = os.listdir()\n",
    "print(files)"
   ]
  },
  {
   "cell_type": "code",
   "execution_count": 7,
   "id": "ba2a76e0",
   "metadata": {},
   "outputs": [
    {
     "name": "stdout",
     "output_type": "stream",
     "text": [
      "['cat_img1.jpg', 'cat_img2.jpg', 'cat_img3.jpg']\n"
     ]
    }
   ],
   "source": [
    "img_path_list = []\n",
    "\n",
    "for f in files:\n",
    "    if f.endswith(\".jpg\"):\n",
    "        img_path_list.append(f)\n",
    "print(img_path_list)        "
   ]
  },
  {
   "cell_type": "code",
   "execution_count": 21,
   "id": "9e119fd5",
   "metadata": {},
   "outputs": [
    {
     "name": "stdout",
     "output_type": "stream",
     "text": [
      "cat_img1.jpg\n",
      "cat_img2.jpg\n",
      "cat_img3.jpg\n"
     ]
    }
   ],
   "source": [
    "for j in img_path_list:\n",
    "    print(j)\n",
    "    image = cv2.imread(j)\n",
    "    \n",
    "    gray = cv2.cvtColor(image, cv2.COLOR_BGR2GRAY)\n",
    "    \n",
    "    detector = cv2.CascadeClassifier(\"haarcascade_frontalcatface.xml\")\n",
    "    rects = detector.detectMultiScale(gray, scaleFactor = 1.045, minNeighbors = 2)\n",
    "    \n",
    "    for (i, (x,y,w,h)) in enumerate(rects):\n",
    "        cv2.rectangle(image, (x,y), (x+w, y+h), (0,255,255), 2)\n",
    "        cv2.putText(image, \"Kedi {}\".format(i+1), (x,y-10), cv2.FONT_HERSHEY_SIMPLEX, 0.55, (0,255,255), 2)\n",
    "    \n",
    "    \n",
    "    cv2.imshow(j, image)\n",
    "    if cv2.waitKey(0) & 0xFF == ord(\"q\"): continue # q ya basınca bir sonraki resime geçmeyi sağlar.\n",
    "    if cv2.waitKey(0) & 0xFF == ord(\"a\"): break\n",
    "cv2.destroyAllWindows()     "
   ]
  },
  {
   "cell_type": "code",
   "execution_count": null,
   "id": "a4c03c4c",
   "metadata": {},
   "outputs": [],
   "source": []
  }
 ],
 "metadata": {
  "kernelspec": {
   "display_name": "Python 3 (ipykernel)",
   "language": "python",
   "name": "python3"
  },
  "language_info": {
   "codemirror_mode": {
    "name": "ipython",
    "version": 3
   },
   "file_extension": ".py",
   "mimetype": "text/x-python",
   "name": "python",
   "nbconvert_exporter": "python",
   "pygments_lexer": "ipython3",
   "version": "3.9.12"
  }
 },
 "nbformat": 4,
 "nbformat_minor": 5
}
