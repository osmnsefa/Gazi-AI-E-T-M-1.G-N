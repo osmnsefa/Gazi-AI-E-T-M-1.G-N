{
 "cells": [
  {
   "cell_type": "code",
   "execution_count": 7,
   "id": "2d294ec8",
   "metadata": {},
   "outputs": [],
   "source": [
    "import cv2 \n",
    "import os"
   ]
  },
  {
   "cell_type": "code",
   "execution_count": 8,
   "id": "600748a2",
   "metadata": {},
   "outputs": [
    {
     "name": "stdout",
     "output_type": "stream",
     "text": [
      "['.ipynb_checkpoints', 'img1.jpg', 'img2.jpg', 'img3.jpg', 'Yaya Tespiti (Pedestrian Detection).ipynb']\n"
     ]
    }
   ],
   "source": [
    "files = os.listdir()\n",
    "print(files)"
   ]
  },
  {
   "cell_type": "code",
   "execution_count": 9,
   "id": "c7f382a2",
   "metadata": {},
   "outputs": [
    {
     "name": "stdout",
     "output_type": "stream",
     "text": [
      "['img1.jpg', 'img2.jpg', 'img3.jpg']\n"
     ]
    }
   ],
   "source": [
    "img_path_list = []\n",
    "\n",
    "for f in files:\n",
    "    if f.endswith(\".jpg\"):\n",
    "        img_path_list.append(f)\n",
    "print(img_path_list)    "
   ]
  },
  {
   "cell_type": "code",
   "execution_count": 10,
   "id": "16b9847f",
   "metadata": {},
   "outputs": [],
   "source": [
    "# hog tanımlayıcısı\n",
    "hog = cv2.HOGDescriptor()\n",
    "# tanımlayıcıa SVM ekle\n",
    "hog.setSVMDetector(cv2.HOGDescriptor_getDefaultPeopleDetector())"
   ]
  },
  {
   "cell_type": "code",
   "execution_count": 11,
   "id": "1c02829b",
   "metadata": {},
   "outputs": [
    {
     "name": "stdout",
     "output_type": "stream",
     "text": [
      "img1.jpg\n",
      "img2.jpg\n",
      "img3.jpg\n"
     ]
    }
   ],
   "source": [
    "for imagePath in img_path_list:\n",
    "    print(imagePath)\n",
    "    \n",
    "    image = cv2.imread(imagePath)\n",
    "    \n",
    "    (rects, weights) = hog.detectMultiScale(image, padding = (8,8), scale = 1.05)\n",
    "    \n",
    "    for (x,y,w,h) in rects:\n",
    "        cv2.rectangle(image, (x,y),(x+w,y+h),(0,0,255),2)\n",
    "         \n",
    "    cv2.imshow(\"Yaya: \",image)\n",
    "    \n",
    "    if cv2.waitKey(0) & 0xFF == ord(\"q\"): continue\n",
    "    if cv2.waitKey(0) & 0xFF == ord(\"a\"): break\n",
    "cv2.destroyAllWindows()     "
   ]
  },
  {
   "cell_type": "code",
   "execution_count": null,
   "id": "80b1c611",
   "metadata": {},
   "outputs": [],
   "source": []
  }
 ],
 "metadata": {
  "kernelspec": {
   "display_name": "Python 3 (ipykernel)",
   "language": "python",
   "name": "python3"
  },
  "language_info": {
   "codemirror_mode": {
    "name": "ipython",
    "version": 3
   },
   "file_extension": ".py",
   "mimetype": "text/x-python",
   "name": "python",
   "nbconvert_exporter": "python",
   "pygments_lexer": "ipython3",
   "version": "3.9.12"
  }
 },
 "nbformat": 4,
 "nbformat_minor": 5
}
